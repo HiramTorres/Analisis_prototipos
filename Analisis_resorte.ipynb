{
 "cells": [
  {
   "attachments": {},
   "cell_type": "markdown",
   "metadata": {},
   "source": [
    "# Analisis de resorte"
   ]
  },
  {
   "attachments": {},
   "cell_type": "markdown",
   "metadata": {},
   "source": [
    "### Función para determinar distancia con respecto a punto de sujeción "
   ]
  },
  {
   "cell_type": "code",
   "execution_count": 8,
   "metadata": {},
   "outputs": [
    {
     "name": "stdout",
     "output_type": "stream",
     "text": [
      "0.045418497546482764\n"
     ]
    }
   ],
   "source": [
    "import math\n",
    "\n",
    "k = 654 # en N/m\n",
    "\n",
    "def tan(x):\n",
    "    return math.tan(math.radians(x))\n",
    "\n",
    "def distancia(k,b,p,theta):\n",
    "    return ((k*(b**2))/p)*tan(theta)\n",
    "\n",
    "b = float(input(\"Ingrese longitud deseada en m: \"))\n",
    "p = (float(input(\"Ingrese peso deseado en kg: \")))*(9.81)\n",
    "theta = float(input(\"Ingrese angulo deseado: \"))\n",
    "resultado = distancia(k,b,p,theta)\n",
    "print(resultado)\n"
   ]
  },
  {
   "attachments": {},
   "cell_type": "markdown",
   "metadata": {},
   "source": [
    "### Programa para calcular los grados que debería moverse"
   ]
  },
  {
   "cell_type": "code",
   "execution_count": 68,
   "metadata": {},
   "outputs": [
    {
     "name": "stdout",
     "output_type": "stream",
     "text": [
      "El resultado es:  3.048027300973595  grados\n"
     ]
    }
   ],
   "source": [
    "k = 1011.06 # en N/m\n",
    "b = 0.15 # en metros\n",
    "\n",
    "def atan(x):\n",
    "    return math.degrees(math.atan(x))\n",
    "\n",
    "def angulo(k,b,p,x):\n",
    "    return atan((x*p)/(k*b**2))\n",
    "p = (float(input(\"ingrese peso deseado\")))*(9.81)\n",
    "x = float(input(\"ingrese distancia deseada\"))\n",
    "resultado = angulo(k,b,p,x)\n",
    "print(\"El resultado es: \",resultado, \" grados\")"
   ]
  },
  {
   "cell_type": "code",
   "execution_count": null,
   "metadata": {},
   "outputs": [],
   "source": []
  }
 ],
 "metadata": {
  "kernelspec": {
   "display_name": "Python 3",
   "language": "python",
   "name": "python3"
  },
  "language_info": {
   "codemirror_mode": {
    "name": "ipython",
    "version": 3
   },
   "file_extension": ".py",
   "mimetype": "text/x-python",
   "name": "python",
   "nbconvert_exporter": "python",
   "pygments_lexer": "ipython3",
   "version": "3.11.0"
  },
  "orig_nbformat": 4
 },
 "nbformat": 4,
 "nbformat_minor": 2
}
